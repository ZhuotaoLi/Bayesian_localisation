{
 "cells": [
  {
   "cell_type": "code",
   "execution_count": null,
   "id": "1b9de565",
   "metadata": {},
   "outputs": [],
   "source": [
    "## Suppose we have the GLADE+ galaxy catalogue as:\n",
    "## Column 1 : GLADEno;          GLADE+ catalog number \n",
    "## Column 3 : GWGCname;         Name in the GWGC catalog\n",
    "## Column 9 : RA                Right ascension in degrees;\n",
    "## Column 10: Dec               Declination in degrees;\n",
    "## Column 14: B_Abs             Absolute B magnitude\n",
    "## Column 36: M*                Stellar mass in 10^10 M_Sun units\n",
    "## Column 37: M*_err            Absolute error of stellar mass in 10^10 M_Sun units\n",
    "## Column 39: Merger_rate       Base-10 logarithm of estimated BNS merger rate in the galaxy in Gyr^-1 units\n",
    "## Column 40: Merger_rate_error Absolute error of estimated BNS merger rate in the galaxy"
   ]
  },
  {
   "cell_type": "code",
   "execution_count": 1,
   "id": "1e2951a3",
   "metadata": {
    "collapsed": true
   },
   "outputs": [
    {
     "ename": "ModuleNotFoundError",
     "evalue": "No module named 'pycbc'",
     "output_type": "error",
     "traceback": [
      "\u001b[0;31m---------------------------------------------------------------------------\u001b[0m",
      "\u001b[0;31mModuleNotFoundError\u001b[0m                       Traceback (most recent call last)",
      "Input \u001b[0;32mIn [1]\u001b[0m, in \u001b[0;36m<cell line: 3>\u001b[0;34m()\u001b[0m\n\u001b[1;32m      1\u001b[0m \u001b[38;5;66;03m## import packages\u001b[39;00m\n\u001b[1;32m      2\u001b[0m \u001b[38;5;28;01mimport\u001b[39;00m \u001b[38;5;21;01mnumpy\u001b[39;00m \u001b[38;5;28;01mas\u001b[39;00m \u001b[38;5;21;01mnp\u001b[39;00m\n\u001b[0;32m----> 3\u001b[0m \u001b[38;5;28;01mimport\u001b[39;00m \u001b[38;5;21;01mpycbc\u001b[39;00m \u001b[38;5;28;01mas\u001b[39;00m \u001b[38;5;21;01mpycbc\u001b[39;00m\n",
      "\u001b[0;31mModuleNotFoundError\u001b[0m: No module named 'pycbc'"
     ]
    }
   ],
   "source": [
    "## import packages\n",
    "import numpy as np\n",
    "import pycbc as pycbc"
   ]
  },
  {
   "cell_type": "code",
   "execution_count": null,
   "id": "c199de1c",
   "metadata": {},
   "outputs": [],
   "source": [
    "## load the data\n",
    "## load the galaxy catalogue GC\n",
    "GC = np.loadtxt('./GLADE+.txt', dtype = 'str');\n",
    "## load GW data\n",
    "GW = np.loadtxt('./GW170817.txt', dtype = 'str');"
   ]
  }
 ],
 "metadata": {
  "kernelspec": {
   "display_name": "Python 3 (ipykernel)",
   "language": "python",
   "name": "python3"
  },
  "language_info": {
   "codemirror_mode": {
    "name": "ipython",
    "version": 3
   },
   "file_extension": ".py",
   "mimetype": "text/x-python",
   "name": "python",
   "nbconvert_exporter": "python",
   "pygments_lexer": "ipython3",
   "version": "3.9.12"
  }
 },
 "nbformat": 4,
 "nbformat_minor": 5
}
