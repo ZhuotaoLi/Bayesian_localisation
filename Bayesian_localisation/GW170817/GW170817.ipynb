{
 "cells": [
  {
   "cell_type": "code",
   "execution_count": null,
   "id": "1b9de565",
   "metadata": {},
   "outputs": [],
   "source": [
    "## Suppose we have the GLADE+ galaxy catalogue (GC) as:\n",
    "## Column 1 : GLADEno;          GLADE+ catalog number \n",
    "## Column 3 : GWGCname;         Name in the GWGC catalog\n",
    "## Column 9 : RA                Right ascension in degrees\n",
    "## Column 10: Dec               Declination in degrees\n",
    "## Column 14: B_Abs             Absolute B magnitude\n",
    "## Column 33: d_L               Luminosity distance in Mpc units\n",
    "## Column 34: d_Lerr           Error of luminosity distance in Mpc units\n",
    "## Column 36: Mst               Stellar mass in 10^10 M_Sun units\n",
    "## Column 37: Mst_err           Absolute error of stellar mass in 10^10 M_Sun units\n",
    "## Column 39: Merger_rate       Base-10 logarithm of estimated BNS merger rate in the galaxy in Gyr^-1 units\n",
    "## Column 40: Merger_rate_error Absolute error of estimated BNS merger rate in the galaxy"
   ]
  },
  {
   "cell_type": "code",
   "execution_count": 2,
   "id": "1e2951a3",
   "metadata": {},
   "outputs": [],
   "source": [
    "## import packages\n",
    "import numpy as np\n",
    "import pandas as pd"
   ]
  },
  {
   "cell_type": "code",
   "execution_count": null,
   "id": "c199de1c",
   "metadata": {},
   "outputs": [],
   "source": [
    "## load GW data\n",
    "GW = np.loadtxt('./GW170817.txt', dtype = 'str');\n",
    "## The range of the GW detection is (in Mpc):\n",
    "D_gw = 200;\n",
    "D_gwerr = ;"
   ]
  },
  {
   "cell_type": "code",
   "execution_count": null,
   "id": "820265b8",
   "metadata": {},
   "outputs": [],
   "source": [
    "## load the galaxy catalogue GC\n",
    "GC = np.loadtxt('./GLADE+.txt', dtype = 'str');\n",
    "D_gc = 200;\n",
    "## count the number of galaxies we need\n",
    "N = 0; GLADEno = []; GWGCname = []; RA = []; Dec = []; B_Abs = []; d_Lerr = [];\n",
    "d_L = []; Mst = []; Mst_err = []; Merger_rate = []; Merger_rate_error = [];\n",
    "for i in range():\n",
    "    d_temp = float(GC[i][32]); d_temp_err = float(GC[i][33]);\n",
    "    if  abs(D_gw - d_temp) < (D_gwerr + d_temp_err)： \n",
    "        N += 1;\n",
    "        GLADEno.append(int(GC[i][0])); GWGCname.append(GC[i][2]); \n",
    "        RA.append(float(GC[i][8]));Dec.append(float(GC[i][9])); \n",
    "        B_Abs.append(float(GC[i][13])); d_L.append(float(GC[i][32])); \n",
    "        Mst.append(float(GC[i][35])); Mst_err.append(float(GC[i][36])); \n",
    "        Merger_rate.append(float(GC[i][38])); Merger_rate_error.append(float(GC[i][39]));\n",
    "del GC"
   ]
  },
  {
   "cell_type": "code",
   "execution_count": null,
   "id": "8a4017d6",
   "metadata": {},
   "outputs": [],
   "source": [
    "## Calculate the Multi-Messenger Prior Func (MMPF)\n",
    "## We first assume the completeness of the GC to the range of the GW detectors\n",
    "## The common priors are RA(0,360), Dec(-90~90), d_L(0~D_gw)\n",
    "## set up the step length\n",
    "delta_RA = 0.1; delta_Dec = 0.1; delta_dL = 0.1;\n",
    "## set up parameter range\n",
    "RA_upend = ; RA_bottomend = ; Dec_upend = ; Dec_bottomend = ; dL_upend = ; dL_bottomend = ;\n",
    "## set up the parameter space\n",
    "Para_RA = range(RA_bottomend,RA_upend,delta_RA); \n",
    "Para_Dec = range(Dec_bottomend,Dec_upend,delta_Dec); \n",
    "Para_dL = range(dL_bottomend,dL_upend,delta_dL)\n",
    "## set up the MMPF prior\n",
    "MMPF = zeros((len(Para_RA),len(Para_Dec),len(Para_dL)));\n",
    "## add the galaxies in GC into MMPF\n",
    "norm = (D_gc/D_gw)^3;    ### not complete\n",
    "for i in range(N)：\n",
    "    Index_RA = Para_RA.index(round(RA[i]))\n",
    "    Index_Dec = Para_Dec.index(round(Dec[i]))\n",
    "    Index_dL = Para_dL.index(round(dL[i]))\n",
    "    weighting = B_Abs[i]  ### might use other weighting factors too\n",
    "    #imcompleteness = \n",
    "    MMPF[Index_RA,Index_Dec,Index_dL] = norm*(1/N)*weighting # + imcompleteness\n"
   ]
  },
  {
   "cell_type": "code",
   "execution_count": 7,
   "id": "6daede16",
   "metadata": {
    "collapsed": true
   },
   "outputs": [
    {
     "ename": "SyntaxError",
     "evalue": "invalid syntax (3851919128.py, line 2)",
     "output_type": "error",
     "traceback": [
      "\u001b[0;36m  Input \u001b[0;32mIn [7]\u001b[0;36m\u001b[0m\n\u001b[0;31m    if 0\u001b[0m\n\u001b[0m         ^\u001b[0m\n\u001b[0;31mSyntaxError\u001b[0m\u001b[0;31m:\u001b[0m invalid syntax\n"
     ]
    }
   ],
   "source": [
    "## Generate GW posterior samples\n",
    "## how to do it?\n"
   ]
  },
  {
   "cell_type": "code",
   "execution_count": null,
   "id": "cfc04d63",
   "metadata": {},
   "outputs": [],
   "source": []
  }
 ],
 "metadata": {
  "kernelspec": {
   "display_name": "Python 3 (ipykernel)",
   "language": "python",
   "name": "python3"
  },
  "language_info": {
   "codemirror_mode": {
    "name": "ipython",
    "version": 3
   },
   "file_extension": ".py",
   "mimetype": "text/x-python",
   "name": "python",
   "nbconvert_exporter": "python",
   "pygments_lexer": "ipython3",
   "version": "3.9.13"
  }
 },
 "nbformat": 4,
 "nbformat_minor": 5
}
